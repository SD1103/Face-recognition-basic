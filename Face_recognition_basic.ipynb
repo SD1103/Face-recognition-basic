{
  "nbformat": 4,
  "nbformat_minor": 0,
  "metadata": {
    "colab": {
      "provenance": [],
      "gpuType": "T4"
    },
    "kernelspec": {
      "name": "python3",
      "display_name": "Python 3"
    },
    "language_info": {
      "name": "python"
    },
    "accelerator": "GPU"
  },
  "cells": [
    {
      "cell_type": "code",
      "execution_count": 1,
      "metadata": {
        "colab": {
          "base_uri": "https://localhost:8080/"
        },
        "id": "n4ZBkAHxWRr7",
        "outputId": "df12f844-0388-467a-99c1-3d6960cd6455"
      },
      "outputs": [
        {
          "output_type": "stream",
          "name": "stdout",
          "text": [
            "Requirement already satisfied: opencv-python in /usr/local/lib/python3.10/dist-packages (4.8.0.76)\n",
            "Requirement already satisfied: numpy>=1.21.2 in /usr/local/lib/python3.10/dist-packages (from opencv-python) (1.25.2)\n"
          ]
        }
      ],
      "source": [
        "pip install opencv-python"
      ]
    },
    {
      "cell_type": "code",
      "source": [
        "!pip install face_recognition\n",
        "import face_recognition"
      ],
      "metadata": {
        "colab": {
          "base_uri": "https://localhost:8080/"
        },
        "id": "pr8_DbQWWo8a",
        "outputId": "34c36203-341a-4721-d70d-f1d77c7f66ee"
      },
      "execution_count": 2,
      "outputs": [
        {
          "output_type": "stream",
          "name": "stdout",
          "text": [
            "Collecting face_recognition\n",
            "  Downloading face_recognition-1.3.0-py2.py3-none-any.whl (15 kB)\n",
            "Collecting face-recognition-models>=0.3.0 (from face_recognition)\n",
            "  Downloading face_recognition_models-0.3.0.tar.gz (100.1 MB)\n",
            "\u001b[2K     \u001b[90m━━━━━━━━━━━━━━━━━━━━━━━━━━━━━━━━━━━━━━━━\u001b[0m \u001b[32m100.1/100.1 MB\u001b[0m \u001b[31m7.6 MB/s\u001b[0m eta \u001b[36m0:00:00\u001b[0m\n",
            "\u001b[?25h  Preparing metadata (setup.py) ... \u001b[?25l\u001b[?25hdone\n",
            "Requirement already satisfied: Click>=6.0 in /usr/local/lib/python3.10/dist-packages (from face_recognition) (8.1.7)\n",
            "Requirement already satisfied: dlib>=19.7 in /usr/local/lib/python3.10/dist-packages (from face_recognition) (19.24.4)\n",
            "Requirement already satisfied: numpy in /usr/local/lib/python3.10/dist-packages (from face_recognition) (1.25.2)\n",
            "Requirement already satisfied: Pillow in /usr/local/lib/python3.10/dist-packages (from face_recognition) (9.4.0)\n",
            "Building wheels for collected packages: face-recognition-models\n",
            "  Building wheel for face-recognition-models (setup.py) ... \u001b[?25l\u001b[?25hdone\n",
            "  Created wheel for face-recognition-models: filename=face_recognition_models-0.3.0-py2.py3-none-any.whl size=100566170 sha256=c895df25744a483a6832a77ad425f1e917b6354b056be469ac9b17fe5bea1524\n",
            "  Stored in directory: /root/.cache/pip/wheels/7a/eb/cf/e9eced74122b679557f597bb7c8e4c739cfcac526db1fd523d\n",
            "Successfully built face-recognition-models\n",
            "Installing collected packages: face-recognition-models, face_recognition\n",
            "Successfully installed face-recognition-models-0.3.0 face_recognition-1.3.0\n"
          ]
        }
      ]
    },
    {
      "cell_type": "code",
      "source": [
        "import cv2"
      ],
      "metadata": {
        "id": "NwzGYkhIX48F"
      },
      "execution_count": 3,
      "outputs": []
    },
    {
      "cell_type": "code",
      "source": [
        "import face_recognition"
      ],
      "metadata": {
        "id": "LeFCm6pNYwmb"
      },
      "execution_count": 4,
      "outputs": []
    },
    {
      "cell_type": "code",
      "source": [
        "img = cv2.imread(\"/content/images (1).jpeg\")\n",
        "rgb_img = cv2.cvtColor(img, cv2.COLOR_BGR2RGB)\n",
        "img_encoding = face_recognition.face_encodings(rgb_img)[0]"
      ],
      "metadata": {
        "id": "7ftiisV6bP7d"
      },
      "execution_count": 5,
      "outputs": []
    },
    {
      "cell_type": "code",
      "source": [
        "img2 = cv2.imread(\"/content/images (2).jpeg\")\n",
        "rgb_img2 = cv2.cvtColor(img2, cv2.COLOR_BGR2RGB)\n",
        "img_encoding2 = face_recognition.face_encodings(rgb_img2)[0]"
      ],
      "metadata": {
        "id": "Ulw3eJB5b4A7"
      },
      "execution_count": 8,
      "outputs": []
    },
    {
      "cell_type": "code",
      "source": [
        "result = face_recognition.compare_faces([img_encoding], img_encoding2)\n",
        "print(\"Result: \", result)"
      ],
      "metadata": {
        "colab": {
          "base_uri": "https://localhost:8080/"
        },
        "id": "kXQMPtLLcHYO",
        "outputId": "bee997af-78ce-4ef6-fca0-dbf7ea00d83e"
      },
      "execution_count": 9,
      "outputs": [
        {
          "output_type": "stream",
          "name": "stdout",
          "text": [
            "Result:  [False]\n"
          ]
        }
      ]
    },
    {
      "cell_type": "code",
      "source": [
        "img3 = cv2.imread(\"/content/images (3).jpeg\")\n",
        "rgb_img2 = cv2.cvtColor(img3, cv2.COLOR_BGR2RGB)\n",
        "img_encoding3 = face_recognition.face_encodings(rgb_img2)[0]"
      ],
      "metadata": {
        "id": "0fS6rFSJd_Gb"
      },
      "execution_count": 11,
      "outputs": []
    },
    {
      "cell_type": "code",
      "source": [
        "result1 = face_recognition.compare_faces([img_encoding], img_encoding3)\n",
        "print(\"Result: \", result1)"
      ],
      "metadata": {
        "colab": {
          "base_uri": "https://localhost:8080/"
        },
        "id": "VRL21zANeLSb",
        "outputId": "126e8f37-9e4c-4b93-8b05-b20994e015fe"
      },
      "execution_count": 12,
      "outputs": [
        {
          "output_type": "stream",
          "name": "stdout",
          "text": [
            "Result:  [True]\n"
          ]
        }
      ]
    }
  ]
}